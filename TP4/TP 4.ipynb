{
 "cells": [
  {
   "cell_type": "code",
   "execution_count": 1,
   "metadata": {},
   "outputs": [],
   "source": [
    "import pandas as pd\n",
    "import numpy as np\n",
    "import matplotlib.pyplot as plt\n",
    "import seaborn as sns\n",
    "import os"
   ]
  },
  {
   "cell_type": "code",
   "execution_count": 2,
   "metadata": {},
   "outputs": [],
   "source": [
    "# Abrimos la carpeta donde se encuentran las bases de datos\n",
    "#os.chdir(r\"C:/Users\\s1248850/OneDrive - Syngenta/Documents/Rosario Luque/Ciencias de datos/TP/TP3\")\n",
    "#os.chdir(r\"c:\\Users\\s1290226\\OneDrive - Syngenta\\Desktop\\UdeSA\\Ciencia de datos\\CC408-T2-3\\TP4\")\n",
    "#os.chdir(r\"C:\\Users\\clari\\OneDrive\\Documents\\Tutoriales CD\\CC408-T2-3\\TP4\")\n",
    "os.chdir(r\"c:\\Users\\Teresa\\Desktop\\Cuarto año\\Semestre de primavera\\Ciencia de Datos\\CC408-T2-3\\TP4\")\n",
    "\n",
    "# Guardamos las bases de datos en en dos variables\n",
    "ind_2004 = pd.read_stata(\"Individual_t104.dta\")\n",
    "hogar_2004 = pd.read_stata(\"Hogar_t104.dta\")\n",
    "ind_2024 = pd.read_excel(\"usu_individual_T124.xlsx\")\n",
    "hogar_2024 = pd.read_excel(\"usu_hogar_T124.xlsx\")"
   ]
  },
  {
   "cell_type": "code",
   "execution_count": 3,
   "metadata": {},
   "outputs": [
    {
     "data": {
      "text/plain": [
       "((45289, 176), (12816, 88), (46050, 177), (16104, 88))"
      ]
     },
     "execution_count": 3,
     "metadata": {},
     "output_type": "execute_result"
    }
   ],
   "source": [
    "ind_2004.shape, hogar_2004.shape, ind_2024.shape, hogar_2024.shape"
   ]
  },
  {
   "cell_type": "code",
   "execution_count": 4,
   "metadata": {},
   "outputs": [
    {
     "data": {
      "text/plain": [
       "Index(['CODUSU', 'ANO4', 'TRIMESTRE', 'NRO_HOGAR', 'REALIZADA', 'REGION',\n",
       "       'MAS_500', 'AGLOMERADO', 'PONDERA', 'IV1', 'IV1_ESP', 'IV2', 'IV3',\n",
       "       'IV3_ESP', 'IV4', 'IV5', 'IV6', 'IV7', 'IV7_ESP', 'IV8', 'IV9', 'IV10',\n",
       "       'IV11', 'IV12_1', 'IV12_2', 'IV12_3', 'II1', 'II2', 'II3', 'II3_1',\n",
       "       'II4_1', 'II4_2', 'II4_3', 'II5', 'II5_1', 'II6', 'II6_1', 'II7',\n",
       "       'II7_ESP', 'II8', 'II8_ESP', 'II9', 'V1', 'V2', 'V21', 'V22', 'V3',\n",
       "       'V4', 'V5', 'V6', 'V7', 'V8', 'V9', 'V10', 'V11', 'V12', 'V13', 'V14',\n",
       "       'V15', 'V16', 'V17', 'V18', 'V19_A', 'V19_B', 'IX_TOT', 'IX_MEN10',\n",
       "       'IX_MAYEQ10', 'ITF', 'DECIFR', 'IDECIFR', 'RDECIFR', 'GDECIFR',\n",
       "       'PDECIFR', 'ADECIFR', 'IPCF', 'DECCFR', 'IDECCFR', 'RDECCFR', 'GDECCFR',\n",
       "       'PDECCFR', 'ADECCFR', 'PONDIH', 'VII1_1', 'VII1_2', 'VII2_1', 'VII2_2',\n",
       "       'VII2_3', 'VII2_4'],\n",
       "      dtype='object')"
      ]
     },
     "execution_count": 4,
     "metadata": {},
     "output_type": "execute_result"
    }
   ],
   "source": [
    "hogar_2024.columns"
   ]
  },
  {
   "cell_type": "markdown",
   "metadata": {},
   "source": [
    "2. Descarguen la base de microdatos de la EPH correspondiente al primer trimestre de 2004 y 2024 en formato .dta y .xls, respectivamente. La base de hogares se llama Hogar_t104.dta y usu_hogar_T124.xls, respectivamente. Eliminen todas las observaciones que no corresponden a los aglomerados de Ciudad Autónoma de Buenos Aires o Gran Buenos Aires y unan ambos trimestres en una sola base. Esto es, a la base de la encuesta individual de cada año (que usaron en el TP3) unan la base de la encuesta de hogar. Asegúrese de estar usando las variables CODUSU y NRO_Hogar para el merge."
   ]
  },
  {
   "cell_type": "markdown",
   "metadata": {},
   "source": [
    "Para poder trabajar con las cuatro bases de datos es necesario primero pasar el nombre de todas las columnas a minúscula. Esto nos permitirá luego concatenar las bases de datos en una sola y preservar la estructura de la información."
   ]
  },
  {
   "cell_type": "code",
   "execution_count": 5,
   "metadata": {},
   "outputs": [],
   "source": [
    "# En la base de datos del 2024 los nombres de las columnas están en mayúsculas.\n",
    "# Entonces, cambiamos los nombres de las columnas a minúsculas.\n",
    "ind_2024.columns = ind_2024.columns.str.lower()\n",
    "hogar_2024.columns = hogar_2024.columns.str.lower()\n",
    "\n",
    "#Just in case, hacemos lo mismo para las bases del 2004.\n",
    "ind_2004.columns = ind_2004.columns.str.lower()\n",
    "hogar_2004.columns = hogar_2004.columns.str.lower()"
   ]
  },
  {
   "cell_type": "markdown",
   "metadata": {},
   "source": [
    "Ahora eliminamos todas las observaciones que no corresponden a los aglomerados de Ciudad Autónoma de Buenos Aires o Gran Buenos Aires, y unimos ambos trimestres de hogares e individuos en una sola base."
   ]
  },
  {
   "cell_type": "code",
   "execution_count": 6,
   "metadata": {},
   "outputs": [
    {
     "name": "stdout",
     "output_type": "stream",
     "text": [
      "El número de filas con aglomerado 32 y 33 para el año 2004 es: 7647\n",
      "El número de filas con aglomerado 32 y 33 para el año 2024 es: 7051\n",
      "El número de filas con aglomerado 32 y 33 en la base de hogares para el año 2004 es: 2351\n",
      "El número de filas con aglomerado 32 y 33 en la base de hogares para el año 2024 es: 2545\n"
     ]
    }
   ],
   "source": [
    "# Contar el número de filas en el dataframe ind_2004 que son 'Ciudad de Buenos Aires' o 'Partidos del GBA' en la columna \"aglomerado\"\n",
    "count_32_33 = ind_2004[ind_2004['aglomerado'].isin(['Ciudad de Buenos Aires', 'Partidos del GBA'])].shape[0]\n",
    "print(f\"El número de filas con aglomerado 32 y 33 para el año 2004 es: {count_32_33}\")\n",
    "# Contar el número de filas en el dataframe ind_2024 que tienen el valor 32 y 33 en la columna \"aglomerado\"\n",
    "count_32_33_2024 = ind_2024[ind_2024['aglomerado'].isin([32, 33])].shape[0]\n",
    "print(f\"El número de filas con aglomerado 32 y 33 para el año 2024 es: {count_32_33_2024}\")\n",
    "# Contar el número de filas en el dataframe hogar_2004 que son 'Ciudad de Buenos Aires' o 'Partidos del GBA' en la columna \"aglomerado\"\n",
    "count_32_33_hogar = hogar_2004[hogar_2004['aglomerado'].isin(['Ciudad de Buenos Aires', 'Partidos del GBA'])].shape[0]\n",
    "print(f\"El número de filas con aglomerado 32 y 33 en la base de hogares para el año 2004 es: {count_32_33_hogar}\")\n",
    "# Contar el número de filas en el dataframe hogar_2024 que tienen el valor 32 y 33 en la columna \"aglomerado\"\n",
    "count_32_33_hogar_2024 = hogar_2024[hogar_2024['aglomerado'].isin([32, 33])].shape[0]\n",
    "print(f\"El número de filas con aglomerado 32 y 33 en la base de hogares para el año 2024 es: {count_32_33_hogar_2024}\")\n"
   ]
  },
  {
   "cell_type": "code",
   "execution_count": 7,
   "metadata": {},
   "outputs": [],
   "source": [
    "# Primero filtramos los aglomerados de Ciudad Autónoma de Buenos Aires (32) y Gran Buenos Aires (33)\n",
    "ind_2004 = ind_2004[ind_2004['aglomerado'].isin(['Ciudad de Buenos Aires', 'Partidos del GBA'])]\n",
    "ind_2024 = ind_2024[ind_2024['aglomerado'].isin([32, 33])]\n",
    "hogar_2004 = hogar_2004[hogar_2004['aglomerado'].isin(['Ciudad de Buenos Aires', 'Partidos del GBA'])]\n",
    "hogar_2024 = hogar_2024[hogar_2024['aglomerado'].isin([32, 33])]"
   ]
  },
  {
   "cell_type": "markdown",
   "metadata": {},
   "source": [
    "Antes de unir las bases de datos, vamos a quedarnos con las variables que usamos en el TP3 y vamos a reorganizar las variables. Seguramente tengamos que hacer esto con las bases de hogares, lo iremos haciendo al paso."
   ]
  },
  {
   "cell_type": "code",
   "execution_count": 8,
   "metadata": {},
   "outputs": [
    {
     "name": "stdout",
     "output_type": "stream",
     "text": [
      "Index(['codusu', 'nro_hogar', 'ano4', 'ch04', 'ch06', 'ch07', 'ch08',\n",
      "       'nivel_ed', 'estado', 'cat_inac', 'ipcf'],\n",
      "      dtype='object')\n",
      "Index(['codusu', 'nro_hogar', 'ano4', 'ch04', 'ch06', 'ch07', 'ch08',\n",
      "       'nivel_ed', 'estado', 'cat_inac', 'ipcf'],\n",
      "      dtype='object')\n"
     ]
    }
   ],
   "source": [
    "# Primero hacemos el recorte de variables de interés de la base de individuos en función de lo realizado en el tp3.\n",
    "ind_2004 = ind_2004[['codusu', 'nro_hogar', 'ano4', 'ch04', 'ch06', 'ch07', 'ch08', 'nivel_ed', 'estado', 'cat_inac', 'ipcf']]\n",
    "ind_2024 = ind_2024[['codusu', 'nro_hogar', 'ano4', 'ch04', 'ch06', 'ch07', 'ch08', 'nivel_ed', 'estado', 'cat_inac', 'ipcf']]\n",
    "print(ind_2004.columns)\n",
    "print(ind_2024.columns)"
   ]
  },
  {
   "cell_type": "code",
   "execution_count": 9,
   "metadata": {},
   "outputs": [
    {
     "name": "stderr",
     "output_type": "stream",
     "text": [
      "C:\\Users\\Teresa\\AppData\\Local\\Temp\\ipykernel_3056\\1007163427.py:6: FutureWarning: Downcasting behavior in `replace` is deprecated and will be removed in a future version. To retain the old behavior, explicitly call `result.infer_objects(copy=False)`. To opt-in to the future behavior, set `pd.set_option('future.no_silent_downcasting', True)`\n",
      "  ind_2004['ch04'] = ind_2004['ch04'].replace({'Varón': 1, 'Mujer': 2})\n",
      "C:\\Users\\Teresa\\AppData\\Local\\Temp\\ipykernel_3056\\1007163427.py:6: FutureWarning: The behavior of Series.replace (and DataFrame.replace) with CategoricalDtype is deprecated. In a future version, replace will only be used for cases that preserve the categories. To change the categories, use ser.cat.rename_categories instead.\n",
      "  ind_2004['ch04'] = ind_2004['ch04'].replace({'Varón': 1, 'Mujer': 2})\n",
      "C:\\Users\\Teresa\\AppData\\Local\\Temp\\ipykernel_3056\\1007163427.py:8: FutureWarning: Downcasting behavior in `replace` is deprecated and will be removed in a future version. To retain the old behavior, explicitly call `result.infer_objects(copy=False)`. To opt-in to the future behavior, set `pd.set_option('future.no_silent_downcasting', True)`\n",
      "  ind_2004['ch07'] = ind_2004['ch07'].replace({'Unido': 1, 'Casado': 2,'Separado o divorciado':3, 'Viudo':4,'Ns./Nr.':0,'Soltero':5})\n",
      "C:\\Users\\Teresa\\AppData\\Local\\Temp\\ipykernel_3056\\1007163427.py:8: FutureWarning: The behavior of Series.replace (and DataFrame.replace) with CategoricalDtype is deprecated. In a future version, replace will only be used for cases that preserve the categories. To change the categories, use ser.cat.rename_categories instead.\n",
      "  ind_2004['ch07'] = ind_2004['ch07'].replace({'Unido': 1, 'Casado': 2,'Separado o divorciado':3, 'Viudo':4,'Ns./Nr.':0,'Soltero':5})\n"
     ]
    }
   ],
   "source": [
    "# Ahora ajustamos las variables de la base de invididuos del 2004 para que tengan el mismo formato que las de 2024.\n",
    "# Se convierte a numérico los valores de ch06 (edades) de los datos de 2004, convirtiendo en na los valores que no son numeros.\n",
    "ind_2004['ch06'] = pd.to_numeric(ind_2004['ch06'], errors='coerce')\n",
    "# Ahora convertimos las variables de 2004 al formato numérico de 2024, para facilitar posteriormente el análisis.\n",
    "#ch04=genero\n",
    "ind_2004['ch04'] = ind_2004['ch04'].replace({'Varón': 1, 'Mujer': 2})\n",
    "#ch07= estado civil\n",
    "ind_2004['ch07'] = ind_2004['ch07'].replace({'Unido': 1, 'Casado': 2,'Separado o divorciado':3, 'Viudo':4,'Ns./Nr.':0,'Soltero':5})\n",
    "#ch08= estado de salud\n",
    "mapeosalud = {'Obra social (incluye PAMI)': 1,'No paga ni le descuentan': 2,'Mutual/Prepaga/Servicio de emergencia': 3,'Obra social y mutual/prepaga/servicio de emergencia': 12,'Planes y seguros públicos': 3,'Ns./Nr.': 9,  'Obra social, mutual/prepaga/servicio de emergencia y planes': 123,'Obra social y planes y seguros públicos': 13,'Mutual/prepaga/servicio de emergencia/planes y seguros públi': 23}\n",
    "ind_2004['ch08'] = ind_2004['ch08'].map(mapeosalud)\n",
    "ind_2004['ch08'] = pd.to_numeric(ind_2004['ch08'], errors='coerce')\n",
    "#nivel_ed= nivel educativo\n",
    "mapeonivel = {'Primaria Incompleta (incluye educación especial)': 1,'Primaria Completa': 2,'Secundaria Incompleta': 3,'Secundaria Completa': 4,'Superior Universitaria Incompleta': 5,'Superior Universitaria Completa': 6,'Sin instrucción': 7,'Ns./ Nr.': 9  }\n",
    "ind_2004['nivel_ed'] = ind_2004['nivel_ed'].map(mapeonivel)\n",
    "ind_2004['nivel_ed'] = pd.to_numeric(ind_2004['nivel_ed'], errors='coerce')\n",
    "#estado = estado laboral\n",
    "mapeoestado = {'Entrevista individual no realizada (no respuesta al cuestion': 0,'Ocupado': 1,'Desocupado': 2,'Inactivo': 3,'Menor de 10 años': 4}\n",
    "ind_2004['estado'] = ind_2004['estado'].map(mapeoestado)\n",
    "ind_2004['estado'] = pd.to_numeric(ind_2004['estado'], errors='coerce')\n",
    "#cat_inac= categoría de inactividad\n",
    "mapeoinac = {'Jubilado / Pensionado': 1,'Rentista': 2,'Estudiante': 3,'Ama de casa': 4,'Menor de 6 años': 5,'Discapacitado': 6,'Otros': 7,0.0:0}\n",
    "ind_2004['cat_inac'] = ind_2004['cat_inac'].map(mapeoinac)\n",
    "ind_2004['cat_inac'] = pd.to_numeric(ind_2004['cat_inac'], errors='coerce')"
   ]
  },
  {
   "cell_type": "code",
   "execution_count": 10,
   "metadata": {},
   "outputs": [
    {
     "name": "stdout",
     "output_type": "stream",
     "text": [
      "codusu         0\n",
      "nro_hogar      0\n",
      "ano4           0\n",
      "ch04           0\n",
      "ch06         135\n",
      "ch07           0\n",
      "ch08           0\n",
      "nivel_ed       0\n",
      "estado         0\n",
      "cat_inac     668\n",
      "ipcf           0\n",
      "dtype: int64\n",
      "codusu       0\n",
      "nro_hogar    0\n",
      "ano4         0\n",
      "ch04         0\n",
      "ch06         0\n",
      "ch07         0\n",
      "ch08         0\n",
      "nivel_ed     0\n",
      "estado       0\n",
      "cat_inac     0\n",
      "ipcf         0\n",
      "dtype: int64\n"
     ]
    }
   ],
   "source": [
    "# Ahora chequeamos si hay nulls en la base de datos de 2004\n",
    "print(ind_2004.isnull().sum())\n",
    "# Y si hay nulls en la base de datos de 2024\n",
    "print(ind_2024.isnull().sum())\n",
    "#Hay 135 valores faltantes para la variable ch06 en la base de datos de 2004.\n",
    "#Hay 668 valores faltantes para la variable cat_inac en la base de datos de 2004.\n",
    "#No hay valores faltantes en la base de datos de 2024."
   ]
  },
  {
   "cell_type": "code",
   "execution_count": 11,
   "metadata": {},
   "outputs": [
    {
     "name": "stdout",
     "output_type": "stream",
     "text": [
      "0\n",
      "0\n"
     ]
    }
   ],
   "source": [
    "# Chequeamos si hay valores negativos de IPCF en la base de datos de 2004.\n",
    "print((ind_2004['ipcf']<0).sum())\n",
    "print((ind_2024['ipcf']<0).sum())"
   ]
  },
  {
   "cell_type": "code",
   "execution_count": 12,
   "metadata": {},
   "outputs": [
    {
     "name": "stdout",
     "output_type": "stream",
     "text": [
      "0\n",
      "51\n"
     ]
    }
   ],
   "source": [
    "# Chequeamos si hay valores negativos en edad (ch06)\n",
    "print((ind_2004['ch06']<0).sum())\n",
    "print((ind_2024['ch06']<0).sum())\n",
    "#Hay 51 valores negativos de edad en la base del 2024."
   ]
  },
  {
   "cell_type": "code",
   "execution_count": 13,
   "metadata": {},
   "outputs": [],
   "source": [
    "#Eliminamos los valores de edad que sean menores a 0 en ambas bases de datos.\n",
    "ind_2024 = ind_2024[ind_2024['ch06'] > 0]\n",
    "ind_2004 = ind_2004[ind_2004['ch06'] > 0]"
   ]
  },
  {
   "cell_type": "code",
   "execution_count": 14,
   "metadata": {},
   "outputs": [
    {
     "name": "stdout",
     "output_type": "stream",
     "text": [
      "codusu       0\n",
      "nro_hogar    0\n",
      "ano4         0\n",
      "ch04         0\n",
      "ch06         0\n",
      "ch07         0\n",
      "ch08         0\n",
      "nivel_ed     0\n",
      "estado       0\n",
      "cat_inac     0\n",
      "ipcf         0\n",
      "dtype: int64\n",
      "codusu       0\n",
      "nro_hogar    0\n",
      "ano4         0\n",
      "ch04         0\n",
      "ch06         0\n",
      "ch07         0\n",
      "ch08         0\n",
      "nivel_ed     0\n",
      "estado       0\n",
      "cat_inac     0\n",
      "ipcf         0\n",
      "dtype: int64\n"
     ]
    }
   ],
   "source": [
    "#Eliminamos los valores faltantes de la base de datos de 2004.\n",
    "ind_2004 = ind_2004.dropna()\n",
    "#Chequeamos que no haya valores faltantes en la base de datos de 2004.\n",
    "print(ind_2004.isnull().sum())\n",
    "#Chequeamos que no haya valores faltantes en la base de datos de 2024.\n",
    "print(ind_2024.isnull().sum())"
   ]
  },
  {
   "cell_type": "code",
   "execution_count": 15,
   "metadata": {},
   "outputs": [
    {
     "name": "stdout",
     "output_type": "stream",
     "text": [
      "Columnas con valores faltantes y su cantidad de NAs:\n",
      "iv1_esp    2541\n",
      "iv3_esp    2543\n",
      "iv7_esp    2540\n",
      "ii7_esp    2538\n",
      "ii8_esp    2448\n",
      "idecifr    2545\n",
      "pdecifr    2545\n",
      "ideccfr    2545\n",
      "pdeccfr    2545\n",
      "dtype: int64\n"
     ]
    }
   ],
   "source": [
    "# Reportar las columnas con valores faltantes para la base de hogares del 2004.\n",
    "missing_values = hogar_2024.isnull().sum()\n",
    "missing_columns = missing_values[missing_values > 0]\n",
    "if not missing_columns.empty:\n",
    "    print(\"Columnas con valores faltantes y su cantidad de NAs:\")\n",
    "    print(missing_columns)\n",
    "else:\n",
    "    print(\"No hay columnas con valores faltantes.\")"
   ]
  },
  {
   "cell_type": "code",
   "execution_count": 16,
   "metadata": {},
   "outputs": [
    {
     "name": "stdout",
     "output_type": "stream",
     "text": [
      "Columnas con valores faltantes y su cantidad de NAs:\n",
      "iv1_esp    2541\n",
      "iv3_esp    2543\n",
      "iv7_esp    2540\n",
      "ii7_esp    2538\n",
      "ii8_esp    2448\n",
      "idecifr    2545\n",
      "pdecifr    2545\n",
      "ideccfr    2545\n",
      "pdeccfr    2545\n",
      "dtype: int64\n"
     ]
    }
   ],
   "source": [
    "# Reportar las columnas con valores faltantes para la base de hogares del 2024.\n",
    "missing_values_2024 = hogar_2024.isnull().sum()\n",
    "missing_columns_2024 = missing_values_2024[missing_values_2024 > 0]\n",
    "if not missing_columns_2024.empty:\n",
    "    print(\"Columnas con valores faltantes y su cantidad de NAs:\")\n",
    "    print(missing_columns_2024)\n",
    "else:\n",
    "    print(\"No hay columnas con valores faltantes.\")"
   ]
  },
  {
   "cell_type": "code",
   "execution_count": 17,
   "metadata": {},
   "outputs": [],
   "source": [
    "# Dado que en el 2024, hay muchas variables con muchos nas, vamos a quedarnos solo con aquellas que vamos a usar para el análisis.\n",
    "# Según el análisis del diseño del registro, aquellas variables que podrían constribuir a la mejora de la predicción son:\n",
    "# 'ITF', 'V4', 'IX_Tot', 'IX_Men10', 'V5' e 'II7'. Por lo tanto, nos quedamos con esas variables.\n",
    "hogar_2004 = hogar_2004[['codusu', 'nro_hogar', 'ano4', 'itf', 'ix_men10', 'v4', 'ix_tot', 'v5', 'ii7']]\n",
    "hogar_2024 = hogar_2024[['codusu', 'nro_hogar', 'ano4', 'itf', 'ix_men10', 'v4', 'ix_tot', 'v5', 'ii7']]"
   ]
  },
  {
   "cell_type": "code",
   "execution_count": 18,
   "metadata": {},
   "outputs": [
    {
     "name": "stderr",
     "output_type": "stream",
     "text": [
      "C:\\Users\\Teresa\\AppData\\Local\\Temp\\ipykernel_3056\\796976883.py:7: FutureWarning: Downcasting behavior in `replace` is deprecated and will be removed in a future version. To retain the old behavior, explicitly call `result.infer_objects(copy=False)`. To opt-in to the future behavior, set `pd.set_option('future.no_silent_downcasting', True)`\n",
      "  hogar_2004['v4'] = hogar_2004['v4'].replace({'Sí': 1, 'No': 2, 'Ns./Nr.': 0, 0.0:0})\n",
      "C:\\Users\\Teresa\\AppData\\Local\\Temp\\ipykernel_3056\\796976883.py:7: FutureWarning: The behavior of Series.replace (and DataFrame.replace) with CategoricalDtype is deprecated. In a future version, replace will only be used for cases that preserve the categories. To change the categories, use ser.cat.rename_categories instead.\n",
      "  hogar_2004['v4'] = hogar_2004['v4'].replace({'Sí': 1, 'No': 2, 'Ns./Nr.': 0, 0.0:0})\n",
      "C:\\Users\\Teresa\\AppData\\Local\\Temp\\ipykernel_3056\\796976883.py:12: FutureWarning: Downcasting behavior in `replace` is deprecated and will be removed in a future version. To retain the old behavior, explicitly call `result.infer_objects(copy=False)`. To opt-in to the future behavior, set `pd.set_option('future.no_silent_downcasting', True)`\n",
      "  hogar_2004['v5'] = hogar_2004['v5'].replace({'Sí': 1, 'No': 2, 'Ns./Nr.': 0, 0.0:0})\n",
      "C:\\Users\\Teresa\\AppData\\Local\\Temp\\ipykernel_3056\\796976883.py:12: FutureWarning: The behavior of Series.replace (and DataFrame.replace) with CategoricalDtype is deprecated. In a future version, replace will only be used for cases that preserve the categories. To change the categories, use ser.cat.rename_categories instead.\n",
      "  hogar_2004['v5'] = hogar_2004['v5'].replace({'Sí': 1, 'No': 2, 'Ns./Nr.': 0, 0.0:0})\n"
     ]
    }
   ],
   "source": [
    "# Dado que la base de datos de hogares del 2004 tiene la descripción como valor en vez del valor numérico, vamos a cambiarlo.\n",
    "#itf= ingreso total familiar\n",
    "hogar_2004['itf'] = pd.to_numeric(hogar_2004['itf'], errors='coerce')\n",
    "#ix_men10= cantidad de menores de 10 años\n",
    "hogar_2004['ix_men10'] = pd.to_numeric(hogar_2004['ix_men10'], errors='coerce')\n",
    "#v4= en los últimos tres meses, las personas de este hogar han vivido de seguro de desempleo\n",
    "hogar_2004['v4'] = hogar_2004['v4'].replace({'Sí': 1, 'No': 2, 'Ns./Nr.': 0, 0.0:0})\n",
    "hogar_2004['v4'] = pd.to_numeric(hogar_2004['v4'], errors='coerce')\n",
    "#ix_tot= cantidad total de integrantes del hogar\n",
    "hogar_2004['ix_tot'] = pd.to_numeric(hogar_2004['ix_tot'], errors='coerce')\n",
    "#v5= en los últimos tres meses, las personas de este hogar han vivido de subsidio o ayuda social.\n",
    "hogar_2004['v5'] = hogar_2004['v5'].replace({'Sí': 1, 'No': 2, 'Ns./Nr.': 0, 0.0:0})\n",
    "hogar_2004['v5'] = pd.to_numeric(hogar_2004['v5'], errors='coerce')\n",
    "mapeo_ii7 = {'Otra situación':9, 'Propietario de la vivienda y el terreno':1, 'Inquilino/arrendatario de la vivienda':3, 'Ocupante por pago de impuestos/expensas':4, 'Propietario de la vivienda solamente':2, 'Ocupante gratuito (con permiso)':6, 'Ocupante en relación de dependencia':5, 'Ocupante de hecho (sin permiso)':7, 'Está en sucesión':8,0.0:0}\n",
    "hogar_2004['ii7'] = hogar_2004['ii7'].map(mapeo_ii7)"
   ]
  },
  {
   "cell_type": "code",
   "execution_count": 19,
   "metadata": {},
   "outputs": [
    {
     "name": "stdout",
     "output_type": "stream",
     "text": [
      "codusu          0\n",
      "nro_hogar       0\n",
      "ano4            0\n",
      "itf             0\n",
      "ix_men10     1576\n",
      "v4              0\n",
      "ix_tot          0\n",
      "v5              0\n",
      "ii7             0\n",
      "dtype: int64\n",
      "codusu       0\n",
      "nro_hogar    0\n",
      "ano4         0\n",
      "itf          0\n",
      "ix_men10     0\n",
      "v4           0\n",
      "ix_tot       0\n",
      "v5           0\n",
      "ii7          0\n",
      "dtype: int64\n"
     ]
    }
   ],
   "source": [
    "#Nuevamente chequeo el número de nas para las variables seleccionadas.\n",
    "print(hogar_2004.isnull().sum())\n",
    "print(hogar_2024.isnull().sum())"
   ]
  },
  {
   "cell_type": "code",
   "execution_count": 20,
   "metadata": {},
   "outputs": [],
   "source": [
    "# Elimino los valores faltantes de la base de datos de hogares del 2004.\n",
    "hogar_2004 = hogar_2004.dropna()"
   ]
  },
  {
   "cell_type": "code",
   "execution_count": 21,
   "metadata": {},
   "outputs": [
    {
     "name": "stdout",
     "output_type": "stream",
     "text": [
      "0\n",
      "0\n",
      "0\n"
     ]
    }
   ],
   "source": [
    "#Chequeo que las variables itf, ix_men10, e ix_tot no tengan valores negativos.\n",
    "print((hogar_2004['itf']<0).sum())\n",
    "print((hogar_2004['ix_men10']<0).sum())\n",
    "print((hogar_2004['ix_tot']<0).sum())"
   ]
  },
  {
   "cell_type": "code",
   "execution_count": 22,
   "metadata": {},
   "outputs": [
    {
     "name": "stdout",
     "output_type": "stream",
     "text": [
      "0\n",
      "0\n",
      "0\n"
     ]
    }
   ],
   "source": [
    "#Chequeo que las variables itf, ix_men10, e ix_tot no tengan valores negativos.\n",
    "print((hogar_2024['itf']<0).sum())\n",
    "print((hogar_2024['ix_men10']<0).sum())\n",
    "print((hogar_2024['ix_tot']<0).sum())"
   ]
  },
  {
   "cell_type": "markdown",
   "metadata": {},
   "source": [
    "Ahora sí, una vez eliminados los valores faltantes y los valores sin sentido, además de transformar las variables, procedemos a unir las bases de datos."
   ]
  },
  {
   "cell_type": "code",
   "execution_count": 23,
   "metadata": {},
   "outputs": [],
   "source": [
    "# Verificar las claves en todas las bases\n",
    "claves = [\"codusu\", \"nro_hogar\"]\n",
    "for df, name in zip([ind_2004, hogar_2004, ind_2024, hogar_2024],\n",
    "                    [\"individual_2004\", \"hogar_2004\", \"individual_2024\", \"hogar_2024\"]):\n",
    "    if not all(clave in df.columns for clave in claves):\n",
    "        raise ValueError(f\"Faltan claves en la base {name}\")\n",
    "\n",
    "# Unir las bases individuales y de hogar para cada año\n",
    "base_2004 = pd.merge(ind_2004, hogar_2004, on=claves, how=\"inner\")\n",
    "base_2024 = pd.merge(ind_2024, hogar_2024, on=claves, how=\"inner\")\n",
    "\n",
    "# Agregar columna de año\n",
    "base_2004[\"Año\"] = 2004\n",
    "base_2024[\"Año\"] = 2024\n",
    "\n",
    "# Combinar ambas bases en un solo DataFrame\n",
    "base_final = pd.concat([base_2004, base_2024], ignore_index=True)"
   ]
  },
  {
   "cell_type": "code",
   "execution_count": 24,
   "metadata": {},
   "outputs": [
    {
     "data": {
      "text/plain": [
       "(10479, 19)"
      ]
     },
     "execution_count": 24,
     "metadata": {},
     "output_type": "execute_result"
    }
   ],
   "source": [
    "base_final.shape\n"
   ]
  },
  {
   "cell_type": "markdown",
   "metadata": {},
   "source": [
    "3. Limpien la base de datos tomando criterios que hagan sentido. Explicar cualquier decisión como el tratamiento de valores faltantes (missing values), extremos (outliers), o variables categóricas. Justifique sus decisiones."
   ]
  },
  {
   "cell_type": "code",
   "execution_count": 25,
   "metadata": {},
   "outputs": [
    {
     "name": "stdout",
     "output_type": "stream",
     "text": [
      "No hay columnas con valores faltantes en base_final.\n"
     ]
    }
   ],
   "source": [
    "# Check for missing values in base_final\n",
    "missing_values_base_final = base_final.isnull().sum()\n",
    "missing_columns_base_final = missing_values_base_final[missing_values_base_final > 0]\n",
    "\n",
    "if not missing_columns_base_final.empty:\n",
    "    print(\"Columnas con valores faltantes y su cantidad de NAs:\")\n",
    "    print(missing_columns_base_final)\n",
    "else:\n",
    "    print(\"No hay columnas con valores faltantes en base_final.\")"
   ]
  },
  {
   "cell_type": "code",
   "execution_count": 26,
   "metadata": {},
   "outputs": [],
   "source": [
    "base_final.to_excel(\"base_final.xlsx\", index=False)"
   ]
  },
  {
   "cell_type": "markdown",
   "metadata": {},
   "source": [
    "4. Construya variables (mínimo 3) que no estén en la base pero que sean relevantes para predecir individuos desocupados (por ejemplo, la proporción de personas que trabajan en el hogar)."
   ]
  },
  {
   "cell_type": "code",
   "execution_count": 27,
   "metadata": {},
   "outputs": [],
   "source": [
    "# Primero, vamos a crear las variables que utilizamos en el tp3 para la predicción del desempleo.\n",
    "# La columna PEA (Población Económicamente Activa) que toma 1 si están ocupados o desocupados en ESTADO.\n",
    "base_final['PEA'] = base_final['estado'].apply(lambda x: 1 if x in [1, 2] else 0)"
   ]
  },
  {
   "cell_type": "code",
   "execution_count": null,
   "metadata": {},
   "outputs": [],
   "source": [
    "# La columna PET (Población en Edad para Trabajar) toma 1 si están la persona tiene entre 15 y 65 años cumplidos. \n",
    "base_final['PET'] = base_final['ch06'].apply(lambda x: 1 if 15 <= x <= 65 else 0)"
   ]
  },
  {
   "cell_type": "code",
   "execution_count": 30,
   "metadata": {},
   "outputs": [],
   "source": [
    "# Agregamos una columna llamada desocupado que tome 1 si esta desocupada\n",
    "base_final['desocupado'] = base_final['estado'].apply(lambda x: 1 if x == 2 else 0)\n"
   ]
  },
  {
   "cell_type": "code",
   "execution_count": 31,
   "metadata": {},
   "outputs": [],
   "source": [
    "# Ahora vamos a crear una nueva columna que contenga la proporción de personas que trabajan en el hogar.\n",
    "# Para esto, vamos a dividir la cantidad de personas ocupadas en el hogar por la cantidad total de personas en el hogar.\n",
    "base_final['prop_ocupados'] = base_final['PEA'] / base_final['ix_tot']\n",
    "\n",
    "# Ahora vamos a crear una nueva columna que contenga la proporción de personas que reciben subsidio o ayuda social en el hogar.\n",
    "# Para esto, vamos a dividir la cantidad de personas que reciben subsidio o ayuda social en el hogar por la cantidad total de personas en el hogar.\n",
    "base_final['prop_subsidio'] = base_final['v5'] / base_final['ix_tot']\n",
    "\n",
    "# Ahora vamos a crear una nueva columna que contenga la proporción de personas que viven de seguro de desempleo en el hogar.\n",
    "# Para esto, vamos a dividir la cantidad de personas que viven de seguro de desempleo en el hogar por la cantidad total de personas en el hogar.\n",
    "base_final['prop_desempleo'] = base_final['v4'] / base_final['ix_tot']"
   ]
  },
  {
   "cell_type": "markdown",
   "metadata": {},
   "source": [
    "5. Presenten estadísticas descriptivas de tres variables de la encuesta de hogar que ustedes creen que pueden ser relevantes para predecir la desocupación. Comenten las estadísticas obtenidas."
   ]
  },
  {
   "cell_type": "code",
   "execution_count": 32,
   "metadata": {},
   "outputs": [
    {
     "name": "stdout",
     "output_type": "stream",
     "text": [
      "                itf      ix_men10            v4        ix_tot            v5  \\\n",
      "count  1.047900e+04  10479.000000  10479.000000  10479.000000  10479.000000   \n",
      "mean   3.032779e+05      0.949900      2.013742      4.266915      1.860006   \n",
      "std    9.128569e+05      1.059893      0.353590      2.127193      0.509279   \n",
      "min    0.000000e+00      0.000000      1.000000      1.000000      1.000000   \n",
      "25%    0.000000e+00      0.000000      2.000000      3.000000      2.000000   \n",
      "50%    1.080000e+03      1.000000      2.000000      4.000000      2.000000   \n",
      "75%    3.800000e+05      2.000000      2.000000      5.000000      2.000000   \n",
      "max    3.393700e+07      7.000000      9.000000     15.000000      9.000000   \n",
      "\n",
      "                ii7  \n",
      "count  10479.000000  \n",
      "mean       2.007443  \n",
      "std        1.648931  \n",
      "min        0.000000  \n",
      "25%        1.000000  \n",
      "50%        1.000000  \n",
      "75%        3.000000  \n",
      "max        9.000000  \n"
     ]
    },
    {
     "data": {
      "image/png": "[encoded data removed]",
      "text/plain": [
       "<Figure size 1500x1000 with 6 Axes>"
      ]
     },
     "metadata": {},
     "output_type": "display_data"
    }
   ],
   "source": [
    "# Análisis descriptivo de las variables provenientes de las bases de hogares\n",
    "variables_hogar = ['itf', 'ix_men10', 'v4', 'ix_tot', 'v5', 'ii7']\n",
    "\n",
    "# Estadísticas descriptivas\n",
    "descriptive_stats = base_final[variables_hogar].describe()\n",
    "print(descriptive_stats)\n",
    "\n",
    "# Visualización de la distribución de las variables\n",
    "fig, axes = plt.subplots(nrows=2, ncols=3, figsize=(15, 10))\n",
    "axes = axes.flatten()\n",
    "\n",
    "for i, var in enumerate(variables_hogar):\n",
    "    sns.histplot(base_final[var], kde=True, ax=axes[i])\n",
    "    axes[i].set_title(f'Distribución de {var}')\n",
    "    axes[i].set_xlabel(var)\n",
    "    axes[i].set_ylabel('Frecuencia')\n",
    "\n",
    "plt.tight_layout()\n",
    "plt.show()"
   ]
  },
  {
   "cell_type": "markdown",
   "metadata": {},
   "source": [
    "#### Parte II: Clasificación y regularización"
   ]
  },
  {
   "cell_type": "markdown",
   "metadata": {},
   "source": [
    "1. Para cada año, partan la base respondieron en una base de prueba y una de entrenamiento (X_train, y_train, X_test, y_test) utilizando\n",
    "el comando train_test_split. La base de entrenamiento debe comprender el 70% de los datos, y la semilla a utilizar (random state\n",
    "instance) debe ser 101. Establezca a desocupado como su variable dependiente en la base de entrenamiento (vector y). El resto de las variables serán las variables independientes (matriz X). Recuerden agregar la columna de unos (1)."
   ]
  },
  {
   "cell_type": "markdown",
   "metadata": {},
   "source": [
    "Antes de hacer esto, sería importante considerar el feedback que nos dejó Nacho.\n",
    "Parte II:\n",
    "#### Creo que, si bien hicieron unas variables que tienen sentido ordinal, para los modelos hubiera creado dummies para las variables categóricas. Es más seguro.\n",
    "- Habría que preguntarle si crear dummies para absolutamente todas las variables categóricas que tiene la base final.\n",
    "#### Hay algún problema con la convergencia de la regresión logística, no termino de entender por qué.\n",
    "- Si ahora la parte de preprocesamiento de datos está bien, esto no debería volver a pasar. \n",
    "#### Me gustan mucho las figuras de ROC de todos los modelos juntos, pero por algún motivo que no comprendo les dieron valores de Accuracy y AUC bastante peores que sus compañeras. Igual se los consideré bien porque los modelos están bien hechos (salvo el tema de las dummies).\n",
    "- Idem al anterior\n",
    "#### Definitivamente no hubiera utilizado la variable PEA para el entrenamiento de los modelos. Piensen que para crearla utilizaron la variable estado.\n",
    "- Tener en mente la posibilidad de sacar las variables madres de otras variables que creemos. Si podemos pensar entre todas que variables que podamos crear nos evitaría tener tantas variables categóricas, como en el caso de PEA, nos ahorraría tiempo.\n",
    "#### Sacar la variable estado de la base final"
   ]
  }
 ],
 "metadata": {
  "kernelspec": {
   "display_name": "CienciasDeDatos",
   "language": "python",
   "name": "python3"
  },
  "language_info": {
   "codemirror_mode": {
    "name": "ipython",
    "version": 3
   },
   "file_extension": ".py",
   "mimetype": "text/x-python",
   "name": "python",
   "nbconvert_exporter": "python",
   "pygments_lexer": "ipython3",
   "version": "3.12.4"
  }
 },
 "nbformat": 4,
 "nbformat_minor": 2
}
